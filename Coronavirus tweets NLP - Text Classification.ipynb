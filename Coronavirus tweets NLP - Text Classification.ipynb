{
 "cells": [
  {
   "cell_type": "markdown",
   "id": "db7025c0",
   "metadata": {},
   "source": [
    "# Coronavirus tweets NLP - Text Classification"
   ]
  },
  {
   "cell_type": "code",
   "execution_count": 480,
   "id": "f31885b0",
   "metadata": {},
   "outputs": [],
   "source": [
    "import numpy as np\n",
    "import pandas as pd\n",
    "import matplotlib.pyplot as plt\n",
    "import seaborn as sns\n",
    "import warnings\n",
    "warnings.filterwarnings('ignore')"
   ]
  },
  {
   "cell_type": "code",
   "execution_count": 528,
   "id": "4c55c561",
   "metadata": {},
   "outputs": [],
   "source": [
    "from tensorflow.keras.preprocessing.text import Tokenizer\n",
    "from tensorflow.keras.preprocessing.sequence import pad_sequences\n",
    "from tensorflow.keras import Sequential\n",
    "from tensorflow.keras.layers import Dense,LSTM,Input,GlobalMaxPool1D,Embedding,GlobalMaxPooling1D,GRU\n",
    "from sklearn.metrics import classification_report,roc_auc_score\n",
    "from nltk.stem import WordNetLemmatizer"
   ]
  },
  {
   "cell_type": "markdown",
   "id": "495f4b9c",
   "metadata": {},
   "source": [
    "## Importing Data"
   ]
  },
  {
   "cell_type": "code",
   "execution_count": 482,
   "id": "3982b3b3",
   "metadata": {},
   "outputs": [],
   "source": [
    "df=pd.read_csv('Corona_NLP_test.csv')"
   ]
  },
  {
   "cell_type": "code",
   "execution_count": 483,
   "id": "74a9e305",
   "metadata": {},
   "outputs": [
    {
     "data": {
      "text/html": [
       "<div>\n",
       "<style scoped>\n",
       "    .dataframe tbody tr th:only-of-type {\n",
       "        vertical-align: middle;\n",
       "    }\n",
       "\n",
       "    .dataframe tbody tr th {\n",
       "        vertical-align: top;\n",
       "    }\n",
       "\n",
       "    .dataframe thead th {\n",
       "        text-align: right;\n",
       "    }\n",
       "</style>\n",
       "<table border=\"1\" class=\"dataframe\">\n",
       "  <thead>\n",
       "    <tr style=\"text-align: right;\">\n",
       "      <th></th>\n",
       "      <th>UserName</th>\n",
       "      <th>ScreenName</th>\n",
       "      <th>Location</th>\n",
       "      <th>TweetAt</th>\n",
       "      <th>OriginalTweet</th>\n",
       "      <th>Sentiment</th>\n",
       "    </tr>\n",
       "  </thead>\n",
       "  <tbody>\n",
       "    <tr>\n",
       "      <th>0</th>\n",
       "      <td>1</td>\n",
       "      <td>44953</td>\n",
       "      <td>NYC</td>\n",
       "      <td>02-03-2020</td>\n",
       "      <td>TRENDING: New Yorkers encounter empty supermar...</td>\n",
       "      <td>Extremely Negative</td>\n",
       "    </tr>\n",
       "    <tr>\n",
       "      <th>1</th>\n",
       "      <td>2</td>\n",
       "      <td>44954</td>\n",
       "      <td>Seattle, WA</td>\n",
       "      <td>02-03-2020</td>\n",
       "      <td>When I couldn't find hand sanitizer at Fred Me...</td>\n",
       "      <td>Positive</td>\n",
       "    </tr>\n",
       "    <tr>\n",
       "      <th>2</th>\n",
       "      <td>3</td>\n",
       "      <td>44955</td>\n",
       "      <td>NaN</td>\n",
       "      <td>02-03-2020</td>\n",
       "      <td>Find out how you can protect yourself and love...</td>\n",
       "      <td>Extremely Positive</td>\n",
       "    </tr>\n",
       "    <tr>\n",
       "      <th>3</th>\n",
       "      <td>4</td>\n",
       "      <td>44956</td>\n",
       "      <td>Chicagoland</td>\n",
       "      <td>02-03-2020</td>\n",
       "      <td>#Panic buying hits #NewYork City as anxious sh...</td>\n",
       "      <td>Negative</td>\n",
       "    </tr>\n",
       "    <tr>\n",
       "      <th>4</th>\n",
       "      <td>5</td>\n",
       "      <td>44957</td>\n",
       "      <td>Melbourne, Victoria</td>\n",
       "      <td>03-03-2020</td>\n",
       "      <td>#toiletpaper #dunnypaper #coronavirus #coronav...</td>\n",
       "      <td>Neutral</td>\n",
       "    </tr>\n",
       "  </tbody>\n",
       "</table>\n",
       "</div>"
      ],
      "text/plain": [
       "   UserName  ScreenName             Location     TweetAt  \\\n",
       "0         1       44953                  NYC  02-03-2020   \n",
       "1         2       44954          Seattle, WA  02-03-2020   \n",
       "2         3       44955                  NaN  02-03-2020   \n",
       "3         4       44956          Chicagoland  02-03-2020   \n",
       "4         5       44957  Melbourne, Victoria  03-03-2020   \n",
       "\n",
       "                                       OriginalTweet           Sentiment  \n",
       "0  TRENDING: New Yorkers encounter empty supermar...  Extremely Negative  \n",
       "1  When I couldn't find hand sanitizer at Fred Me...            Positive  \n",
       "2  Find out how you can protect yourself and love...  Extremely Positive  \n",
       "3  #Panic buying hits #NewYork City as anxious sh...            Negative  \n",
       "4  #toiletpaper #dunnypaper #coronavirus #coronav...             Neutral  "
      ]
     },
     "execution_count": 483,
     "metadata": {},
     "output_type": "execute_result"
    }
   ],
   "source": [
    "df.head()"
   ]
  },
  {
   "cell_type": "code",
   "execution_count": 484,
   "id": "66acf176",
   "metadata": {},
   "outputs": [
    {
     "name": "stdout",
     "output_type": "stream",
     "text": [
      "<class 'pandas.core.frame.DataFrame'>\n",
      "RangeIndex: 3798 entries, 0 to 3797\n",
      "Data columns (total 6 columns):\n",
      " #   Column         Non-Null Count  Dtype \n",
      "---  ------         --------------  ----- \n",
      " 0   UserName       3798 non-null   int64 \n",
      " 1   ScreenName     3798 non-null   int64 \n",
      " 2   Location       2964 non-null   object\n",
      " 3   TweetAt        3798 non-null   object\n",
      " 4   OriginalTweet  3798 non-null   object\n",
      " 5   Sentiment      3798 non-null   object\n",
      "dtypes: int64(2), object(4)\n",
      "memory usage: 178.2+ KB\n"
     ]
    }
   ],
   "source": [
    "df.info()"
   ]
  },
  {
   "cell_type": "code",
   "execution_count": 485,
   "id": "688c47e3",
   "metadata": {},
   "outputs": [
    {
     "data": {
      "text/plain": [
       "UserName           0\n",
       "ScreenName         0\n",
       "Location         834\n",
       "TweetAt            0\n",
       "OriginalTweet      0\n",
       "Sentiment          0\n",
       "dtype: int64"
      ]
     },
     "execution_count": 485,
     "metadata": {},
     "output_type": "execute_result"
    }
   ],
   "source": [
    "df.isnull().sum()"
   ]
  },
  {
   "cell_type": "code",
   "execution_count": 486,
   "id": "fa2ee531",
   "metadata": {
    "scrolled": true
   },
   "outputs": [
    {
     "data": {
      "text/plain": [
       "<AxesSubplot:xlabel='Sentiment', ylabel='count'>"
      ]
     },
     "execution_count": 486,
     "metadata": {},
     "output_type": "execute_result"
    },
    {
     "data": {
      "image/png": "[encoded data removed]",
      "text/plain": [
       "<Figure size 792x288 with 1 Axes>"
      ]
     },
     "metadata": {},
     "output_type": "display_data"
    }
   ],
   "source": [
    "sns.set_style(\"whitegrid\")\n",
    "sns.set(rc={'figure.figsize':(11,4)})\n",
    "sns.countplot(df['Sentiment'])"
   ]
  },
  {
   "cell_type": "code",
   "execution_count": 487,
   "id": "b048f991",
   "metadata": {},
   "outputs": [
    {
     "data": {
      "text/plain": [
       "0       TRENDING: New Yorkers encounter empty supermar...\n",
       "1       When I couldn't find hand sanitizer at Fred Me...\n",
       "2       Find out how you can protect yourself and love...\n",
       "3       #Panic buying hits #NewYork City as anxious sh...\n",
       "4       #toiletpaper #dunnypaper #coronavirus #coronav...\n",
       "                              ...                        \n",
       "3793    Meanwhile In A Supermarket in Israel -- People...\n",
       "3794    Did you panic buy a lot of non-perishable item...\n",
       "3795    Asst Prof of Economics @cconces was on @NBCPhi...\n",
       "3796    Gov need to do somethings instead of biar je r...\n",
       "3797    I and @ForestandPaper members are committed to...\n",
       "Name: OriginalTweet, Length: 3798, dtype: object"
      ]
     },
     "execution_count": 487,
     "metadata": {},
     "output_type": "execute_result"
    }
   ],
   "source": [
    "df['OriginalTweet']"
   ]
  },
  {
   "cell_type": "code",
   "execution_count": 488,
   "id": "10d7850d",
   "metadata": {},
   "outputs": [],
   "source": [
    "def change_sen(sentiment):\n",
    "    if sentiment == \"Extremely Positive\":\n",
    "        return 'positive'\n",
    "    elif sentiment == \"Extremely Negative\":\n",
    "        return 'negative'\n",
    "    elif sentiment == \"Positive\":\n",
    "        return 'positive'\n",
    "    elif sentiment == \"Negative\":\n",
    "        return 'negative'\n",
    "    else:\n",
    "        return 'netural'"
   ]
  },
  {
   "cell_type": "code",
   "execution_count": 489,
   "id": "1429324e",
   "metadata": {},
   "outputs": [],
   "source": [
    "df['Sentiment']=df['Sentiment'].apply(lambda x: change_sen(x))"
   ]
  },
  {
   "cell_type": "markdown",
   "id": "463eb685",
   "metadata": {},
   "source": [
    "### Replacing punctuations with space"
   ]
  },
  {
   "cell_type": "code",
   "execution_count": 490,
   "id": "29972f41",
   "metadata": {},
   "outputs": [],
   "source": [
    "df['OriginalTweet_processed']=df['OriginalTweet'].str.replace('http',' ')\n",
    "df['OriginalTweet_processed']=df['OriginalTweet'].str.replace(\"[^a-zA-Z0-9]\", \" \") "
   ]
  },
  {
   "cell_type": "code",
   "execution_count": 491,
   "id": "f4d219cc",
   "metadata": {},
   "outputs": [
    {
     "data": {
      "text/plain": [
       "0       TRENDING  New Yorkers encounter empty supermar...\n",
       "1       When I couldn t find hand sanitizer at Fred Me...\n",
       "2       Find out how you can protect yourself and love...\n",
       "3        Panic buying hits  NewYork City as anxious sh...\n",
       "4        toiletpaper  dunnypaper  coronavirus  coronav...\n",
       "                              ...                        \n",
       "3793    Meanwhile In A Supermarket in Israel    People...\n",
       "3794    Did you panic buy a lot of non perishable item...\n",
       "3795    Asst Prof of Economics  cconces was on  NBCPhi...\n",
       "3796    Gov need to do somethings instead of biar je r...\n",
       "3797    I and  ForestandPaper members are committed to...\n",
       "Name: OriginalTweet_processed, Length: 3798, dtype: object"
      ]
     },
     "execution_count": 491,
     "metadata": {},
     "output_type": "execute_result"
    }
   ],
   "source": [
    "df['OriginalTweet_processed']"
   ]
  },
  {
   "cell_type": "markdown",
   "id": "e235fc00",
   "metadata": {},
   "source": [
    "### Replacing short words"
   ]
  },
  {
   "cell_type": "code",
   "execution_count": 492,
   "id": "b776e59a",
   "metadata": {},
   "outputs": [],
   "source": [
    "df['OriginalTweet_processed']=df['OriginalTweet_processed'].apply(lambda row:' '.join([word for word in row.split() if len(word)>2]))"
   ]
  },
  {
   "cell_type": "code",
   "execution_count": 493,
   "id": "4a5ccad0",
   "metadata": {},
   "outputs": [
    {
     "data": {
      "text/plain": [
       "0       TRENDING New Yorkers encounter empty supermark...\n",
       "1       When couldn find hand sanitizer Fred Meyer tur...\n",
       "2       Find out how you can protect yourself and love...\n",
       "3       Panic buying hits NewYork City anxious shopper...\n",
       "4       toiletpaper dunnypaper coronavirus coronavirus...\n",
       "                              ...                        \n",
       "3793    Meanwhile Supermarket Israel People dance and ...\n",
       "3794    Did you panic buy lot non perishable items ECH...\n",
       "3795    Asst Prof Economics cconces was NBCPhiladelphi...\n",
       "3796    Gov need somethings instead biar rakyat assume...\n",
       "3797    and ForestandPaper members are committed the s...\n",
       "Name: OriginalTweet_processed, Length: 3798, dtype: object"
      ]
     },
     "execution_count": 493,
     "metadata": {},
     "output_type": "execute_result"
    }
   ],
   "source": [
    "df['OriginalTweet_processed']"
   ]
  },
  {
   "cell_type": "markdown",
   "id": "70c72dfa",
   "metadata": {},
   "source": [
    "### Remove stop words"
   ]
  },
  {
   "cell_type": "code",
   "execution_count": 494,
   "id": "e753125f",
   "metadata": {},
   "outputs": [
    {
     "name": "stderr",
     "output_type": "stream",
     "text": [
      "[nltk_data] Downloading package punkt to\n",
      "[nltk_data]     C:\\Users\\ADMIN\\AppData\\Roaming\\nltk_data...\n",
      "[nltk_data]   Package punkt is already up-to-date!\n",
      "[nltk_data] Downloading package stopwords to\n",
      "[nltk_data]     C:\\Users\\ADMIN\\AppData\\Roaming\\nltk_data...\n",
      "[nltk_data]   Package stopwords is already up-to-date!\n"
     ]
    },
    {
     "data": {
      "text/plain": [
       "True"
      ]
     },
     "execution_count": 494,
     "metadata": {},
     "output_type": "execute_result"
    }
   ],
   "source": [
    "import nltk\n",
    "nltk.download('punkt')\n",
    "nltk.download('stopwords')"
   ]
  },
  {
   "cell_type": "code",
   "execution_count": 495,
   "id": "4a0bbc8b",
   "metadata": {},
   "outputs": [],
   "source": [
    "from nltk.corpus import stopwords\n",
    "stop_words = stopwords.words('english')"
   ]
  },
  {
   "cell_type": "code",
   "execution_count": 496,
   "id": "69a25c82",
   "metadata": {},
   "outputs": [],
   "source": [
    "def clean_text(text):\n",
    "    text=text.split()\n",
    "    text=' '.join([word for word in text if word.lower() not in stop_words])\n",
    "    return text"
   ]
  },
  {
   "cell_type": "code",
   "execution_count": 497,
   "id": "6dd91edd",
   "metadata": {},
   "outputs": [],
   "source": [
    "df['OriginalTweet_processed']=df['OriginalTweet_processed'].apply(lambda x : clean_text(x))"
   ]
  },
  {
   "cell_type": "code",
   "execution_count": 498,
   "id": "e17d55d5",
   "metadata": {},
   "outputs": [
    {
     "data": {
      "text/plain": [
       "0       TRENDING New Yorkers encounter empty supermark...\n",
       "1       find hand sanitizer Fred Meyer turned Amazon 1...\n",
       "2                     Find protect loved ones coronavirus\n",
       "3       Panic buying hits NewYork City anxious shopper...\n",
       "4       toiletpaper dunnypaper coronavirus coronavirus...\n",
       "                              ...                        \n",
       "3793    Meanwhile Supermarket Israel People dance sing...\n",
       "3794    panic buy lot non perishable items ECHO needs ...\n",
       "3795    Asst Prof Economics cconces NBCPhiladelphia ta...\n",
       "3796    Gov need somethings instead biar rakyat assume...\n",
       "3797    ForestandPaper members committed safety employ...\n",
       "Name: OriginalTweet_processed, Length: 3798, dtype: object"
      ]
     },
     "execution_count": 498,
     "metadata": {},
     "output_type": "execute_result"
    }
   ],
   "source": [
    "df['OriginalTweet_processed']"
   ]
  },
  {
   "cell_type": "code",
   "execution_count": 499,
   "id": "2f078e9e",
   "metadata": {
    "scrolled": true
   },
   "outputs": [
    {
     "data": {
      "text/html": [
       "<div>\n",
       "<style scoped>\n",
       "    .dataframe tbody tr th:only-of-type {\n",
       "        vertical-align: middle;\n",
       "    }\n",
       "\n",
       "    .dataframe tbody tr th {\n",
       "        vertical-align: top;\n",
       "    }\n",
       "\n",
       "    .dataframe thead th {\n",
       "        text-align: right;\n",
       "    }\n",
       "</style>\n",
       "<table border=\"1\" class=\"dataframe\">\n",
       "  <thead>\n",
       "    <tr style=\"text-align: right;\">\n",
       "      <th></th>\n",
       "      <th>UserName</th>\n",
       "      <th>ScreenName</th>\n",
       "      <th>Location</th>\n",
       "      <th>TweetAt</th>\n",
       "      <th>OriginalTweet</th>\n",
       "      <th>Sentiment</th>\n",
       "      <th>OriginalTweet_processed</th>\n",
       "    </tr>\n",
       "  </thead>\n",
       "  <tbody>\n",
       "    <tr>\n",
       "      <th>0</th>\n",
       "      <td>1</td>\n",
       "      <td>44953</td>\n",
       "      <td>NYC</td>\n",
       "      <td>02-03-2020</td>\n",
       "      <td>TRENDING: New Yorkers encounter empty supermar...</td>\n",
       "      <td>negative</td>\n",
       "      <td>TRENDING New Yorkers encounter empty supermark...</td>\n",
       "    </tr>\n",
       "    <tr>\n",
       "      <th>1</th>\n",
       "      <td>2</td>\n",
       "      <td>44954</td>\n",
       "      <td>Seattle, WA</td>\n",
       "      <td>02-03-2020</td>\n",
       "      <td>When I couldn't find hand sanitizer at Fred Me...</td>\n",
       "      <td>positive</td>\n",
       "      <td>find hand sanitizer Fred Meyer turned Amazon 1...</td>\n",
       "    </tr>\n",
       "    <tr>\n",
       "      <th>2</th>\n",
       "      <td>3</td>\n",
       "      <td>44955</td>\n",
       "      <td>NaN</td>\n",
       "      <td>02-03-2020</td>\n",
       "      <td>Find out how you can protect yourself and love...</td>\n",
       "      <td>positive</td>\n",
       "      <td>Find protect loved ones coronavirus</td>\n",
       "    </tr>\n",
       "    <tr>\n",
       "      <th>3</th>\n",
       "      <td>4</td>\n",
       "      <td>44956</td>\n",
       "      <td>Chicagoland</td>\n",
       "      <td>02-03-2020</td>\n",
       "      <td>#Panic buying hits #NewYork City as anxious sh...</td>\n",
       "      <td>negative</td>\n",
       "      <td>Panic buying hits NewYork City anxious shopper...</td>\n",
       "    </tr>\n",
       "    <tr>\n",
       "      <th>4</th>\n",
       "      <td>5</td>\n",
       "      <td>44957</td>\n",
       "      <td>Melbourne, Victoria</td>\n",
       "      <td>03-03-2020</td>\n",
       "      <td>#toiletpaper #dunnypaper #coronavirus #coronav...</td>\n",
       "      <td>netural</td>\n",
       "      <td>toiletpaper dunnypaper coronavirus coronavirus...</td>\n",
       "    </tr>\n",
       "  </tbody>\n",
       "</table>\n",
       "</div>"
      ],
      "text/plain": [
       "   UserName  ScreenName             Location     TweetAt  \\\n",
       "0         1       44953                  NYC  02-03-2020   \n",
       "1         2       44954          Seattle, WA  02-03-2020   \n",
       "2         3       44955                  NaN  02-03-2020   \n",
       "3         4       44956          Chicagoland  02-03-2020   \n",
       "4         5       44957  Melbourne, Victoria  03-03-2020   \n",
       "\n",
       "                                       OriginalTweet Sentiment  \\\n",
       "0  TRENDING: New Yorkers encounter empty supermar...  negative   \n",
       "1  When I couldn't find hand sanitizer at Fred Me...  positive   \n",
       "2  Find out how you can protect yourself and love...  positive   \n",
       "3  #Panic buying hits #NewYork City as anxious sh...  negative   \n",
       "4  #toiletpaper #dunnypaper #coronavirus #coronav...   netural   \n",
       "\n",
       "                             OriginalTweet_processed  \n",
       "0  TRENDING New Yorkers encounter empty supermark...  \n",
       "1  find hand sanitizer Fred Meyer turned Amazon 1...  \n",
       "2                Find protect loved ones coronavirus  \n",
       "3  Panic buying hits NewYork City anxious shopper...  \n",
       "4  toiletpaper dunnypaper coronavirus coronavirus...  "
      ]
     },
     "execution_count": 499,
     "metadata": {},
     "output_type": "execute_result"
    }
   ],
   "source": [
    "df.head()"
   ]
  },
  {
   "cell_type": "markdown",
   "id": "f6bd87f9",
   "metadata": {},
   "source": [
    "## Encoding the label"
   ]
  },
  {
   "cell_type": "code",
   "execution_count": 500,
   "id": "90d31214",
   "metadata": {},
   "outputs": [],
   "source": [
    "from sklearn.preprocessing import LabelEncoder\n",
    "\n",
    "label_encoder=LabelEncoder()\n",
    "\n",
    "df['Sentiment']=label_encoder.fit_transform(df['Sentiment'])"
   ]
  },
  {
   "cell_type": "code",
   "execution_count": 501,
   "id": "2c287490",
   "metadata": {},
   "outputs": [
    {
     "data": {
      "text/plain": [
       "array([0, 2, 1])"
      ]
     },
     "execution_count": 501,
     "metadata": {},
     "output_type": "execute_result"
    }
   ],
   "source": [
    "df['Sentiment'].unique()"
   ]
  },
  {
   "cell_type": "markdown",
   "id": "159b258b",
   "metadata": {},
   "source": [
    "### Splitting the Data"
   ]
  },
  {
   "cell_type": "code",
   "execution_count": 502,
   "id": "c6feb097",
   "metadata": {},
   "outputs": [],
   "source": [
    "from sklearn.model_selection import train_test_split\n",
    "X=df['OriginalTweet_processed']\n",
    "y=df['Sentiment']"
   ]
  },
  {
   "cell_type": "code",
   "execution_count": 503,
   "id": "0141527a",
   "metadata": {},
   "outputs": [],
   "source": [
    "X_train, X_test, y_train, y_test = train_test_split(X, y, test_size=0.3, random_state=42)"
   ]
  },
  {
   "cell_type": "markdown",
   "id": "0a7544af",
   "metadata": {},
   "source": [
    "### Tokenization"
   ]
  },
  {
   "cell_type": "code",
   "execution_count": 504,
   "id": "7aa95ab0",
   "metadata": {},
   "outputs": [],
   "source": [
    "lemmatizer=WordNetLemmatizer()"
   ]
  },
  {
   "cell_type": "code",
   "execution_count": 505,
   "id": "27b8aadf",
   "metadata": {},
   "outputs": [],
   "source": [
    "tokenizer=Tokenizer(num_words=20000,oov_token=lemmatizer)\n",
    "tokenizer.fit_on_texts(X_train)\n",
    "X_train=tokenizer.texts_to_sequences(X_train)\n",
    "X_test=tokenizer.texts_to_sequences(X_test)"
   ]
  },
  {
   "cell_type": "code",
   "execution_count": 506,
   "id": "c0e0b743",
   "metadata": {},
   "outputs": [
    {
     "data": {
      "text/plain": [
       "10607"
      ]
     },
     "execution_count": 506,
     "metadata": {},
     "output_type": "execute_result"
    }
   ],
   "source": [
    "word_to_index=tokenizer.word_index\n",
    "len(word_to_index)"
   ]
  },
  {
   "cell_type": "markdown",
   "id": "37b332dd",
   "metadata": {},
   "source": [
    "### Padding"
   ]
  },
  {
   "cell_type": "code",
   "execution_count": 520,
   "id": "845f3ca3",
   "metadata": {},
   "outputs": [],
   "source": [
    "X_train=pad_sequences(X_train,maxlen=60,padding='post',truncating='post')\n",
    "T=X_train.shape\n",
    "T=T[1]"
   ]
  },
  {
   "cell_type": "code",
   "execution_count": 521,
   "id": "5688878c",
   "metadata": {},
   "outputs": [
    {
     "data": {
      "text/plain": [
       "(1140, 60)"
      ]
     },
     "execution_count": 521,
     "metadata": {},
     "output_type": "execute_result"
    }
   ],
   "source": [
    "X_test=pad_sequences(X_test,maxlen=60,padding='post',truncating='post')\n",
    "X_test.shape"
   ]
  },
  {
   "cell_type": "markdown",
   "id": "0af2cc38",
   "metadata": {},
   "source": [
    "## LSTM Model"
   ]
  },
  {
   "cell_type": "code",
   "execution_count": 509,
   "id": "1d1d9730",
   "metadata": {},
   "outputs": [],
   "source": [
    "# ** Embeddindg Dimentionality **\n",
    "\n",
    "D=32\n",
    "\n",
    "# Its an hyper aparameter ( Length of word in sentence want to select)\n",
    "\n",
    "# Hidden state dimentionality (M)\n",
    "\n",
    "M=60\n",
    "\n",
    "# Size of embedding should be (V+1 x D )\n",
    "# Because first index start from 1 not from 0\n",
    "# So if final index of embedding metrix is V then it should be V+1\n",
    "\n",
    "V=len(word_to_index)"
   ]
  },
  {
   "cell_type": "code",
   "execution_count": 510,
   "id": "56525d04",
   "metadata": {},
   "outputs": [],
   "source": [
    "model=Sequential()\n",
    "model.add(Input(shape=(T,)))\n",
    "model.add(Embedding(V+1,D))\n",
    "model.add(LSTM(M,return_sequences=True))\n",
    "model.add(GlobalMaxPool1D())\n",
    "model.add(Dense(M))\n",
    "model.add(Dense(3,activation='softmax'))"
   ]
  },
  {
   "cell_type": "code",
   "execution_count": 511,
   "id": "7388beb9",
   "metadata": {},
   "outputs": [],
   "source": [
    "from keras.callbacks import EarlyStopping,ReduceLROnPlateau"
   ]
  },
  {
   "cell_type": "code",
   "execution_count": 512,
   "id": "96534328",
   "metadata": {},
   "outputs": [],
   "source": [
    "early_stop=EarlyStopping(monitor='val_accuracy',patience=10)\n",
    "reduceLR=ReduceLROnPlateau(monitor='val_accuarcy',patience=8)"
   ]
  },
  {
   "cell_type": "code",
   "execution_count": 513,
   "id": "846f569b",
   "metadata": {},
   "outputs": [],
   "source": [
    "model.compile(optimizer='adam',loss='sparse_categorical_crossentropy',metrics=['accuracy'])"
   ]
  },
  {
   "cell_type": "code",
   "execution_count": 514,
   "id": "5e1ab7ec",
   "metadata": {
    "collapsed": true
   },
   "outputs": [
    {
     "name": "stdout",
     "output_type": "stream",
     "text": [
      "Epoch 1/50\n",
      "41/42 [============================>.] - ETA: 0s - loss: 1.0356 - accuracy: 0.4192WARNING:tensorflow:Learning rate reduction is conditioned on metric `val_accuarcy` which is not available. Available metrics are: loss,accuracy,val_loss,val_accuracy,lr\n",
      "42/42 [==============================] - 6s 71ms/step - loss: 1.0357 - accuracy: 0.4191 - val_loss: 1.0201 - val_accuracy: 0.4237 - lr: 0.0010\n",
      "Epoch 2/50\n",
      "42/42 [==============================] - ETA: 0s - loss: 0.9506 - accuracy: 0.4868WARNING:tensorflow:Learning rate reduction is conditioned on metric `val_accuarcy` which is not available. Available metrics are: loss,accuracy,val_loss,val_accuracy,lr\n",
      "42/42 [==============================] - 2s 53ms/step - loss: 0.9506 - accuracy: 0.4868 - val_loss: 0.9311 - val_accuracy: 0.5605 - lr: 0.0010\n",
      "Epoch 3/50\n",
      "42/42 [==============================] - ETA: 0s - loss: 0.6449 - accuracy: 0.7491WARNING:tensorflow:Learning rate reduction is conditioned on metric `val_accuarcy` which is not available. Available metrics are: loss,accuracy,val_loss,val_accuracy,lr\n",
      "42/42 [==============================] - 2s 50ms/step - loss: 0.6449 - accuracy: 0.7491 - val_loss: 0.8818 - val_accuracy: 0.6421 - lr: 0.0010\n",
      "Epoch 4/50\n",
      "42/42 [==============================] - ETA: 0s - loss: 0.2494 - accuracy: 0.9229WARNING:tensorflow:Learning rate reduction is conditioned on metric `val_accuarcy` which is not available. Available metrics are: loss,accuracy,val_loss,val_accuracy,lr\n",
      "42/42 [==============================] - 2s 50ms/step - loss: 0.2494 - accuracy: 0.9229 - val_loss: 1.1982 - val_accuracy: 0.6307 - lr: 0.0010\n",
      "Epoch 5/50\n",
      "41/42 [============================>.] - ETA: 0s - loss: 0.0794 - accuracy: 0.9775WARNING:tensorflow:Learning rate reduction is conditioned on metric `val_accuarcy` which is not available. Available metrics are: loss,accuracy,val_loss,val_accuracy,lr\n",
      "42/42 [==============================] - 2s 50ms/step - loss: 0.0789 - accuracy: 0.9778 - val_loss: 1.3290 - val_accuracy: 0.6254 - lr: 0.0010\n",
      "Epoch 6/50\n",
      "41/42 [============================>.] - ETA: 0s - loss: 0.0460 - accuracy: 0.9878WARNING:tensorflow:Learning rate reduction is conditioned on metric `val_accuarcy` which is not available. Available metrics are: loss,accuracy,val_loss,val_accuracy,lr\n",
      "42/42 [==============================] - 2s 52ms/step - loss: 0.0459 - accuracy: 0.9876 - val_loss: 1.4727 - val_accuracy: 0.6167 - lr: 0.0010\n",
      "Epoch 7/50\n",
      "41/42 [============================>.] - ETA: 0s - loss: 0.0289 - accuracy: 0.9931WARNING:tensorflow:Learning rate reduction is conditioned on metric `val_accuarcy` which is not available. Available metrics are: loss,accuracy,val_loss,val_accuracy,lr\n",
      "42/42 [==============================] - 2s 49ms/step - loss: 0.0286 - accuracy: 0.9932 - val_loss: 1.6483 - val_accuracy: 0.6202 - lr: 0.0010\n",
      "Epoch 8/50\n",
      "41/42 [============================>.] - ETA: 0s - loss: 0.0101 - accuracy: 0.9981WARNING:tensorflow:Learning rate reduction is conditioned on metric `val_accuarcy` which is not available. Available metrics are: loss,accuracy,val_loss,val_accuracy,lr\n",
      "42/42 [==============================] - 2s 54ms/step - loss: 0.0100 - accuracy: 0.9981 - val_loss: 1.9737 - val_accuracy: 0.6158 - lr: 0.0010\n",
      "Epoch 9/50\n",
      "41/42 [============================>.] - ETA: 0s - loss: 0.0066 - accuracy: 0.9992WARNING:tensorflow:Learning rate reduction is conditioned on metric `val_accuarcy` which is not available. Available metrics are: loss,accuracy,val_loss,val_accuracy,lr\n",
      "42/42 [==============================] - 2s 51ms/step - loss: 0.0065 - accuracy: 0.9992 - val_loss: 2.0915 - val_accuracy: 0.6175 - lr: 0.0010\n",
      "Epoch 10/50\n",
      "41/42 [============================>.] - ETA: 0s - loss: 0.0048 - accuracy: 0.9992WARNING:tensorflow:Learning rate reduction is conditioned on metric `val_accuarcy` which is not available. Available metrics are: loss,accuracy,val_loss,val_accuracy,lr\n",
      "42/42 [==============================] - 2s 50ms/step - loss: 0.0048 - accuracy: 0.9992 - val_loss: 2.0616 - val_accuracy: 0.6105 - lr: 0.0010\n",
      "Epoch 11/50\n",
      "42/42 [==============================] - ETA: 0s - loss: 0.0030 - accuracy: 0.9996WARNING:tensorflow:Learning rate reduction is conditioned on metric `val_accuarcy` which is not available. Available metrics are: loss,accuracy,val_loss,val_accuracy,lr\n",
      "42/42 [==============================] - 2s 50ms/step - loss: 0.0030 - accuracy: 0.9996 - val_loss: 2.3868 - val_accuracy: 0.6219 - lr: 0.0010\n",
      "Epoch 12/50\n",
      "41/42 [============================>.] - ETA: 0s - loss: 0.0019 - accuracy: 0.9996WARNING:tensorflow:Learning rate reduction is conditioned on metric `val_accuarcy` which is not available. Available metrics are: loss,accuracy,val_loss,val_accuracy,lr\n",
      "42/42 [==============================] - 2s 49ms/step - loss: 0.0019 - accuracy: 0.9996 - val_loss: 2.4542 - val_accuracy: 0.6228 - lr: 0.0010\n",
      "Epoch 13/50\n",
      "42/42 [==============================] - ETA: 0s - loss: 0.0058 - accuracy: 0.9981WARNING:tensorflow:Learning rate reduction is conditioned on metric `val_accuarcy` which is not available. Available metrics are: loss,accuracy,val_loss,val_accuracy,lr\n",
      "42/42 [==============================] - 2s 53ms/step - loss: 0.0058 - accuracy: 0.9981 - val_loss: 2.3889 - val_accuracy: 0.6219 - lr: 0.0010\n"
     ]
    },
    {
     "data": {
      "text/plain": [
       "<keras.callbacks.History at 0x1d67aa671c0>"
      ]
     },
     "execution_count": 514,
     "metadata": {},
     "output_type": "execute_result"
    }
   ],
   "source": [
    "model.fit(X_train,y_train,validation_data=(X_test,y_test),\n",
    "            epochs=50,batch_size=64,callbacks=[early_stop,reduceLR])"
   ]
  },
  {
   "cell_type": "code",
   "execution_count": 516,
   "id": "4fd9c8bf",
   "metadata": {},
   "outputs": [],
   "source": [
    "# Model 2"
   ]
  },
  {
   "cell_type": "code",
   "execution_count": 515,
   "id": "097cc439",
   "metadata": {
    "collapsed": true
   },
   "outputs": [
    {
     "name": "stdout",
     "output_type": "stream",
     "text": [
      "Epoch 1/50\n",
      "41/42 [============================>.] - ETA: 0s - loss: 1.0470 - accuracy: 0.4230WARNING:tensorflow:Learning rate reduction is conditioned on metric `val_accuarcy` which is not available. Available metrics are: loss,accuracy,val_loss,val_accuracy,lr\n",
      "42/42 [==============================] - 6s 64ms/step - loss: 1.0469 - accuracy: 0.4206 - val_loss: 1.0295 - val_accuracy: 0.4237 - lr: 0.0010\n",
      "Epoch 2/50\n",
      "41/42 [============================>.] - ETA: 0s - loss: 1.0049 - accuracy: 0.4615WARNING:tensorflow:Learning rate reduction is conditioned on metric `val_accuarcy` which is not available. Available metrics are: loss,accuracy,val_loss,val_accuracy,lr\n",
      "42/42 [==============================] - 2s 48ms/step - loss: 1.0041 - accuracy: 0.4628 - val_loss: 0.9713 - val_accuracy: 0.4465 - lr: 0.0010\n",
      "Epoch 3/50\n",
      "42/42 [==============================] - ETA: 0s - loss: 0.8500 - accuracy: 0.5700WARNING:tensorflow:Learning rate reduction is conditioned on metric `val_accuarcy` which is not available. Available metrics are: loss,accuracy,val_loss,val_accuracy,lr\n",
      "42/42 [==============================] - 2s 53ms/step - loss: 0.8500 - accuracy: 0.5700 - val_loss: 0.9441 - val_accuracy: 0.5123 - lr: 0.0010\n",
      "Epoch 4/50\n",
      "41/42 [============================>.] - ETA: 0s - loss: 0.5354 - accuracy: 0.7904WARNING:tensorflow:Learning rate reduction is conditioned on metric `val_accuarcy` which is not available. Available metrics are: loss,accuracy,val_loss,val_accuracy,lr\n",
      "42/42 [==============================] - 2s 51ms/step - loss: 0.5334 - accuracy: 0.7912 - val_loss: 1.0185 - val_accuracy: 0.5912 - lr: 0.0010\n",
      "Epoch 5/50\n",
      "42/42 [==============================] - ETA: 0s - loss: 0.2580 - accuracy: 0.9229WARNING:tensorflow:Learning rate reduction is conditioned on metric `val_accuarcy` which is not available. Available metrics are: loss,accuracy,val_loss,val_accuracy,lr\n",
      "42/42 [==============================] - 2s 50ms/step - loss: 0.2580 - accuracy: 0.9229 - val_loss: 1.2326 - val_accuracy: 0.5974 - lr: 0.0010\n",
      "Epoch 6/50\n",
      "42/42 [==============================] - ETA: 0s - loss: 0.1349 - accuracy: 0.9643WARNING:tensorflow:Learning rate reduction is conditioned on metric `val_accuarcy` which is not available. Available metrics are: loss,accuracy,val_loss,val_accuracy,lr\n",
      "42/42 [==============================] - 2s 50ms/step - loss: 0.1349 - accuracy: 0.9643 - val_loss: 1.4610 - val_accuracy: 0.6202 - lr: 0.0010\n",
      "Epoch 7/50\n",
      "42/42 [==============================] - ETA: 0s - loss: 0.0706 - accuracy: 0.9819WARNING:tensorflow:Learning rate reduction is conditioned on metric `val_accuarcy` which is not available. Available metrics are: loss,accuracy,val_loss,val_accuracy,lr\n",
      "42/42 [==============================] - 2s 50ms/step - loss: 0.0706 - accuracy: 0.9819 - val_loss: 1.6351 - val_accuracy: 0.6123 - lr: 0.0010\n",
      "Epoch 8/50\n",
      "41/42 [============================>.] - ETA: 0s - loss: 0.0549 - accuracy: 0.9874WARNING:tensorflow:Learning rate reduction is conditioned on metric `val_accuarcy` which is not available. Available metrics are: loss,accuracy,val_loss,val_accuracy,lr\n",
      "42/42 [==============================] - 2s 50ms/step - loss: 0.0542 - accuracy: 0.9876 - val_loss: 1.6686 - val_accuracy: 0.6105 - lr: 0.0010\n",
      "Epoch 9/50\n",
      "41/42 [============================>.] - ETA: 0s - loss: 0.0321 - accuracy: 0.9931WARNING:tensorflow:Learning rate reduction is conditioned on metric `val_accuarcy` which is not available. Available metrics are: loss,accuracy,val_loss,val_accuracy,lr\n",
      "42/42 [==============================] - 2s 50ms/step - loss: 0.0318 - accuracy: 0.9932 - val_loss: 1.8512 - val_accuracy: 0.6140 - lr: 0.0010\n",
      "Epoch 10/50\n",
      "41/42 [============================>.] - ETA: 0s - loss: 0.0198 - accuracy: 0.9958WARNING:tensorflow:Learning rate reduction is conditioned on metric `val_accuarcy` which is not available. Available metrics are: loss,accuracy,val_loss,val_accuracy,lr\n",
      "42/42 [==============================] - 2s 55ms/step - loss: 0.0214 - accuracy: 0.9955 - val_loss: 1.9946 - val_accuracy: 0.6088 - lr: 0.0010\n",
      "Epoch 11/50\n",
      "41/42 [============================>.] - ETA: 0s - loss: 0.0179 - accuracy: 0.9970WARNING:tensorflow:Learning rate reduction is conditioned on metric `val_accuarcy` which is not available. Available metrics are: loss,accuracy,val_loss,val_accuracy,lr\n",
      "42/42 [==============================] - 2s 58ms/step - loss: 0.0177 - accuracy: 0.9970 - val_loss: 1.9932 - val_accuracy: 0.5921 - lr: 0.0010\n",
      "Epoch 12/50\n",
      "42/42 [==============================] - ETA: 0s - loss: 0.0149 - accuracy: 0.9970WARNING:tensorflow:Learning rate reduction is conditioned on metric `val_accuarcy` which is not available. Available metrics are: loss,accuracy,val_loss,val_accuracy,lr\n",
      "42/42 [==============================] - 2s 53ms/step - loss: 0.0149 - accuracy: 0.9970 - val_loss: 2.0570 - val_accuracy: 0.6070 - lr: 0.0010\n",
      "Epoch 13/50\n",
      "42/42 [==============================] - ETA: 0s - loss: 0.0201 - accuracy: 0.9955WARNING:tensorflow:Learning rate reduction is conditioned on metric `val_accuarcy` which is not available. Available metrics are: loss,accuracy,val_loss,val_accuracy,lr\n",
      "42/42 [==============================] - 2s 49ms/step - loss: 0.0201 - accuracy: 0.9955 - val_loss: 1.9547 - val_accuracy: 0.6193 - lr: 0.0010\n",
      "Epoch 14/50\n",
      "42/42 [==============================] - ETA: 0s - loss: 0.0109 - accuracy: 0.9981WARNING:tensorflow:Learning rate reduction is conditioned on metric `val_accuarcy` which is not available. Available metrics are: loss,accuracy,val_loss,val_accuracy,lr\n",
      "42/42 [==============================] - 2s 50ms/step - loss: 0.0109 - accuracy: 0.9981 - val_loss: 2.3403 - val_accuracy: 0.6158 - lr: 0.0010\n",
      "Epoch 15/50\n",
      "41/42 [============================>.] - ETA: 0s - loss: 0.0111 - accuracy: 0.9966WARNING:tensorflow:Learning rate reduction is conditioned on metric `val_accuarcy` which is not available. Available metrics are: loss,accuracy,val_loss,val_accuracy,lr\n",
      "42/42 [==============================] - 2s 50ms/step - loss: 0.0109 - accuracy: 0.9966 - val_loss: 2.5031 - val_accuracy: 0.6070 - lr: 0.0010\n",
      "Epoch 16/50\n",
      "41/42 [============================>.] - ETA: 0s - loss: 0.0171 - accuracy: 0.9935WARNING:tensorflow:Learning rate reduction is conditioned on metric `val_accuarcy` which is not available. Available metrics are: loss,accuracy,val_loss,val_accuracy,lr\n",
      "42/42 [==============================] - 2s 49ms/step - loss: 0.0169 - accuracy: 0.9936 - val_loss: 2.0053 - val_accuracy: 0.6053 - lr: 0.0010\n"
     ]
    },
    {
     "data": {
      "text/plain": [
       "<keras.callbacks.History at 0x1d675b40c70>"
      ]
     },
     "execution_count": 515,
     "metadata": {},
     "output_type": "execute_result"
    }
   ],
   "source": [
    "model=Sequential()\n",
    "model.add(Input(shape=(T,)))\n",
    "model.add(Embedding(V+1,D))\n",
    "model.add(LSTM(M,return_sequences=True))\n",
    "model.add(GlobalMaxPool1D())\n",
    "model.add(Dense(M,activation='relu'))\n",
    "model.add(Dense(3,activation='softmax'))\n",
    "\n",
    "model.compile(optimizer='adam',loss='sparse_categorical_crossentropy',metrics=['accuracy'])\n",
    "\n",
    "model.fit(X_train,y_train,validation_data=(X_test,y_test),\n",
    "            epochs=50,batch_size=64,callbacks=[early_stop,reduceLR])"
   ]
  },
  {
   "cell_type": "code",
   "execution_count": 517,
   "id": "e72e6996",
   "metadata": {},
   "outputs": [],
   "source": [
    "#model 3"
   ]
  },
  {
   "cell_type": "code",
   "execution_count": 519,
   "id": "b1c62813",
   "metadata": {
    "collapsed": true
   },
   "outputs": [
    {
     "name": "stdout",
     "output_type": "stream",
     "text": [
      "Epoch 1/50\n",
      "42/42 [==============================] - 5s 64ms/step - loss: 1.0473 - accuracy: 0.4236 - val_loss: 1.0352 - val_accuracy: 0.4237\n",
      "Epoch 2/50\n",
      "42/42 [==============================] - 2s 47ms/step - loss: 1.0262 - accuracy: 0.4330 - val_loss: 1.0323 - val_accuracy: 0.4237\n",
      "Epoch 3/50\n",
      "42/42 [==============================] - 2s 52ms/step - loss: 1.0136 - accuracy: 0.4334 - val_loss: 0.9592 - val_accuracy: 0.4491\n",
      "Epoch 4/50\n",
      "42/42 [==============================] - 2s 48ms/step - loss: 0.9359 - accuracy: 0.4819 - val_loss: 0.9744 - val_accuracy: 0.4763\n",
      "Epoch 5/50\n",
      "42/42 [==============================] - 2s 46ms/step - loss: 0.8339 - accuracy: 0.5260 - val_loss: 1.0080 - val_accuracy: 0.4561\n",
      "Epoch 6/50\n",
      "42/42 [==============================] - 2s 47ms/step - loss: 0.7836 - accuracy: 0.5598 - val_loss: 1.0729 - val_accuracy: 0.4719\n",
      "Epoch 7/50\n",
      "42/42 [==============================] - 2s 46ms/step - loss: 0.7095 - accuracy: 0.5877 - val_loss: 0.9865 - val_accuracy: 0.4632\n",
      "Epoch 8/50\n",
      "42/42 [==============================] - 2s 48ms/step - loss: 0.6457 - accuracy: 0.6467 - val_loss: 1.1195 - val_accuracy: 0.4632\n",
      "Epoch 9/50\n",
      "42/42 [==============================] - 2s 48ms/step - loss: 0.5209 - accuracy: 0.7705 - val_loss: 1.2487 - val_accuracy: 0.4798\n",
      "Epoch 10/50\n",
      "42/42 [==============================] - 2s 47ms/step - loss: 0.3081 - accuracy: 0.8901 - val_loss: 1.4268 - val_accuracy: 0.5570\n",
      "Epoch 11/50\n",
      "42/42 [==============================] - 2s 47ms/step - loss: 0.1317 - accuracy: 0.9628 - val_loss: 1.8425 - val_accuracy: 0.5456\n",
      "Epoch 12/50\n",
      "42/42 [==============================] - 2s 47ms/step - loss: 0.0525 - accuracy: 0.9876 - val_loss: 2.1067 - val_accuracy: 0.5561\n",
      "Epoch 13/50\n",
      "42/42 [==============================] - 2s 57ms/step - loss: 0.0439 - accuracy: 0.9898 - val_loss: 2.5386 - val_accuracy: 0.5342\n",
      "Epoch 14/50\n",
      "42/42 [==============================] - 2s 50ms/step - loss: 0.0506 - accuracy: 0.9872 - val_loss: 2.2869 - val_accuracy: 0.5588\n",
      "Epoch 15/50\n",
      "42/42 [==============================] - 2s 50ms/step - loss: 0.0256 - accuracy: 0.9936 - val_loss: 2.2837 - val_accuracy: 0.5535\n",
      "Epoch 16/50\n",
      "42/42 [==============================] - 2s 51ms/step - loss: 0.0196 - accuracy: 0.9959 - val_loss: 2.2743 - val_accuracy: 0.5711\n",
      "Epoch 17/50\n",
      "42/42 [==============================] - 2s 47ms/step - loss: 0.0301 - accuracy: 0.9913 - val_loss: 2.6068 - val_accuracy: 0.5368\n",
      "Epoch 18/50\n",
      "42/42 [==============================] - 2s 46ms/step - loss: 0.0235 - accuracy: 0.9932 - val_loss: 2.3547 - val_accuracy: 0.5623\n",
      "Epoch 19/50\n",
      "42/42 [==============================] - 2s 46ms/step - loss: 0.0099 - accuracy: 0.9989 - val_loss: 2.5079 - val_accuracy: 0.5684\n",
      "Epoch 20/50\n",
      "42/42 [==============================] - 2s 50ms/step - loss: 0.0075 - accuracy: 0.9989 - val_loss: 2.4362 - val_accuracy: 0.5763\n",
      "Epoch 21/50\n",
      "42/42 [==============================] - 2s 49ms/step - loss: 0.0100 - accuracy: 0.9985 - val_loss: 2.5027 - val_accuracy: 0.5789\n",
      "Epoch 22/50\n",
      "42/42 [==============================] - 2s 47ms/step - loss: 0.0089 - accuracy: 0.9985 - val_loss: 2.4646 - val_accuracy: 0.5833\n",
      "Epoch 23/50\n",
      "42/42 [==============================] - 2s 46ms/step - loss: 0.0070 - accuracy: 0.9992 - val_loss: 2.9412 - val_accuracy: 0.5711\n",
      "Epoch 24/50\n",
      "42/42 [==============================] - 2s 55ms/step - loss: 0.0060 - accuracy: 0.9989 - val_loss: 2.9166 - val_accuracy: 0.5667\n",
      "Epoch 25/50\n",
      "42/42 [==============================] - 2s 50ms/step - loss: 0.0100 - accuracy: 0.9977 - val_loss: 2.7885 - val_accuracy: 0.5851\n",
      "Epoch 26/50\n",
      "42/42 [==============================] - 2s 51ms/step - loss: 0.0257 - accuracy: 0.9936 - val_loss: 3.2417 - val_accuracy: 0.5518\n",
      "Epoch 27/50\n",
      "42/42 [==============================] - 2s 51ms/step - loss: 0.0275 - accuracy: 0.9932 - val_loss: 2.1753 - val_accuracy: 0.5860\n",
      "Epoch 28/50\n",
      "42/42 [==============================] - 2s 49ms/step - loss: 0.0144 - accuracy: 0.9959 - val_loss: 2.5418 - val_accuracy: 0.5798\n",
      "Epoch 29/50\n",
      "42/42 [==============================] - 2s 46ms/step - loss: 0.0153 - accuracy: 0.9959 - val_loss: 2.8820 - val_accuracy: 0.5430\n",
      "Epoch 30/50\n",
      "42/42 [==============================] - 2s 46ms/step - loss: 0.0059 - accuracy: 0.9992 - val_loss: 2.6375 - val_accuracy: 0.5640\n",
      "Epoch 31/50\n",
      "42/42 [==============================] - 2s 49ms/step - loss: 0.0063 - accuracy: 0.9992 - val_loss: 2.8808 - val_accuracy: 0.5667\n",
      "Epoch 32/50\n",
      "42/42 [==============================] - 2s 46ms/step - loss: 0.0047 - accuracy: 0.9992 - val_loss: 2.9494 - val_accuracy: 0.5728\n",
      "Epoch 33/50\n",
      "42/42 [==============================] - 2s 51ms/step - loss: 0.0061 - accuracy: 0.9989 - val_loss: 3.0934 - val_accuracy: 0.5649\n",
      "Epoch 34/50\n",
      "42/42 [==============================] - 2s 53ms/step - loss: 0.0058 - accuracy: 0.9992 - val_loss: 3.2311 - val_accuracy: 0.5605\n",
      "Epoch 35/50\n",
      "42/42 [==============================] - 2s 48ms/step - loss: 0.0060 - accuracy: 0.9992 - val_loss: 2.7881 - val_accuracy: 0.5711\n",
      "Epoch 36/50\n",
      "42/42 [==============================] - 2s 56ms/step - loss: 0.0061 - accuracy: 0.9992 - val_loss: 2.9780 - val_accuracy: 0.5789\n",
      "Epoch 37/50\n",
      "42/42 [==============================] - 2s 50ms/step - loss: 0.0044 - accuracy: 0.9992 - val_loss: 3.1256 - val_accuracy: 0.5693\n"
     ]
    },
    {
     "data": {
      "text/plain": [
       "<keras.callbacks.History at 0x1d60b630970>"
      ]
     },
     "execution_count": 519,
     "metadata": {},
     "output_type": "execute_result"
    }
   ],
   "source": [
    "model=Sequential()\n",
    "model.add(Input(shape=(T,)))\n",
    "model.add(Embedding(V+1,D))\n",
    "model.add(LSTM(M))\n",
    "model.add(Dense(M,activation='relu'))\n",
    "model.add(Dense(3,activation='softmax'))\n",
    "\n",
    "model.compile(optimizer='adam',loss='sparse_categorical_crossentropy',metrics=['accuracy'])\n",
    "\n",
    "model.fit(X_train,y_train,validation_data=(X_test,y_test),\n",
    "            epochs=50,batch_size=64,callbacks=[early_stop])"
   ]
  },
  {
   "cell_type": "code",
   "execution_count": 527,
   "id": "32b1ef4d",
   "metadata": {},
   "outputs": [
    {
     "name": "stdout",
     "output_type": "stream",
     "text": [
      "Epoch 1/50\n",
      "42/42 [==============================] - 6s 83ms/step - loss: 1.0322 - accuracy: 0.4424 - val_loss: 1.0218 - val_accuracy: 0.4693\n",
      "Epoch 2/50\n",
      "42/42 [==============================] - 3s 66ms/step - loss: 0.9813 - accuracy: 0.4707 - val_loss: 0.9771 - val_accuracy: 0.4298\n",
      "Epoch 3/50\n",
      "42/42 [==============================] - 3s 68ms/step - loss: 0.7765 - accuracy: 0.6099 - val_loss: 0.9810 - val_accuracy: 0.5667\n",
      "Epoch 4/50\n",
      "42/42 [==============================] - 3s 71ms/step - loss: 0.4374 - accuracy: 0.8269 - val_loss: 1.2462 - val_accuracy: 0.5956\n",
      "Epoch 5/50\n",
      "42/42 [==============================] - 3s 67ms/step - loss: 0.1771 - accuracy: 0.9375 - val_loss: 1.5150 - val_accuracy: 0.5860\n",
      "Epoch 6/50\n",
      "42/42 [==============================] - 3s 67ms/step - loss: 0.0994 - accuracy: 0.9695 - val_loss: 1.8720 - val_accuracy: 0.6026\n",
      "Epoch 7/50\n",
      "42/42 [==============================] - 3s 68ms/step - loss: 0.0474 - accuracy: 0.9895 - val_loss: 2.5624 - val_accuracy: 0.6202\n",
      "Epoch 8/50\n",
      "42/42 [==============================] - 3s 71ms/step - loss: 0.0266 - accuracy: 0.9944 - val_loss: 2.5827 - val_accuracy: 0.6114\n",
      "Epoch 9/50\n",
      "42/42 [==============================] - 3s 69ms/step - loss: 0.0402 - accuracy: 0.9898 - val_loss: 2.1978 - val_accuracy: 0.6053\n",
      "Epoch 10/50\n",
      "42/42 [==============================] - 3s 71ms/step - loss: 0.0128 - accuracy: 0.9974 - val_loss: 3.0547 - val_accuracy: 0.6009\n",
      "Epoch 11/50\n",
      "42/42 [==============================] - 3s 68ms/step - loss: 0.0164 - accuracy: 0.9959 - val_loss: 2.6221 - val_accuracy: 0.6018\n",
      "Epoch 12/50\n",
      "42/42 [==============================] - 3s 67ms/step - loss: 0.0138 - accuracy: 0.9962 - val_loss: 2.7320 - val_accuracy: 0.6053\n",
      "Epoch 13/50\n",
      "42/42 [==============================] - 3s 67ms/step - loss: 0.0151 - accuracy: 0.9962 - val_loss: 2.8105 - val_accuracy: 0.6070\n",
      "Epoch 14/50\n",
      "42/42 [==============================] - 3s 68ms/step - loss: 0.0078 - accuracy: 0.9989 - val_loss: 2.8700 - val_accuracy: 0.6096\n",
      "Epoch 15/50\n",
      "42/42 [==============================] - 3s 69ms/step - loss: 0.0059 - accuracy: 0.9989 - val_loss: 3.0473 - val_accuracy: 0.6096\n",
      "Epoch 16/50\n",
      "42/42 [==============================] - 3s 71ms/step - loss: 0.0050 - accuracy: 0.9992 - val_loss: 3.2363 - val_accuracy: 0.6026\n",
      "Epoch 17/50\n",
      "42/42 [==============================] - 3s 69ms/step - loss: 0.0055 - accuracy: 0.9992 - val_loss: 3.1484 - val_accuracy: 0.6105\n"
     ]
    },
    {
     "data": {
      "text/plain": [
       "<keras.callbacks.History at 0x1d61a28fe50>"
      ]
     },
     "execution_count": 527,
     "metadata": {},
     "output_type": "execute_result"
    }
   ],
   "source": [
    "model=Sequential()\n",
    "model.add(Input(shape=(60,)))\n",
    "model.add(Embedding(V+1,D))\n",
    "model.add(LSTM(M,return_sequences=True))\n",
    "model.add(GlobalMaxPool1D())\n",
    "model.add(Dense(M))\n",
    "model.add(Dense(3,activation='softmax'))\n",
    "\n",
    "model.compile(optimizer='adam',loss='sparse_categorical_crossentropy',metrics=['accuracy'])\n",
    "\n",
    "model.fit(X_train,y_train,validation_data=(X_test,y_test),\n",
    "            epochs=50,batch_size=64,callbacks=[early_stop])"
   ]
  },
  {
   "cell_type": "code",
   "execution_count": 530,
   "id": "cd3df244",
   "metadata": {},
   "outputs": [
    {
     "name": "stdout",
     "output_type": "stream",
     "text": [
      "Epoch 1/50\n",
      "42/42 [==============================] - 7s 97ms/step - loss: 1.0200 - accuracy: 0.4323 - val_loss: 1.0171 - val_accuracy: 0.4509\n",
      "Epoch 2/50\n",
      "42/42 [==============================] - 3s 61ms/step - loss: 0.9588 - accuracy: 0.5816 - val_loss: 0.9380 - val_accuracy: 0.5667\n",
      "Epoch 3/50\n",
      "42/42 [==============================] - 3s 63ms/step - loss: 0.6920 - accuracy: 0.7412 - val_loss: 0.8568 - val_accuracy: 0.6526\n",
      "Epoch 4/50\n",
      "42/42 [==============================] - 3s 64ms/step - loss: 0.2699 - accuracy: 0.9123 - val_loss: 0.9891 - val_accuracy: 0.6500\n",
      "Epoch 5/50\n",
      "42/42 [==============================] - 3s 62ms/step - loss: 0.0949 - accuracy: 0.9748 - val_loss: 1.3223 - val_accuracy: 0.6553\n",
      "Epoch 6/50\n",
      "42/42 [==============================] - 3s 63ms/step - loss: 0.0323 - accuracy: 0.9921 - val_loss: 2.0023 - val_accuracy: 0.6500\n",
      "Epoch 7/50\n",
      "42/42 [==============================] - 3s 61ms/step - loss: 0.0165 - accuracy: 0.9970 - val_loss: 2.0660 - val_accuracy: 0.6325\n",
      "Epoch 8/50\n",
      "42/42 [==============================] - 3s 64ms/step - loss: 0.0089 - accuracy: 0.9977 - val_loss: 1.9584 - val_accuracy: 0.6412\n",
      "Epoch 9/50\n",
      "42/42 [==============================] - 3s 64ms/step - loss: 0.0099 - accuracy: 0.9985 - val_loss: 1.9650 - val_accuracy: 0.6439\n",
      "Epoch 10/50\n",
      "42/42 [==============================] - 3s 64ms/step - loss: 0.0030 - accuracy: 0.9992 - val_loss: 2.1839 - val_accuracy: 0.6360\n",
      "Epoch 11/50\n",
      "42/42 [==============================] - 3s 72ms/step - loss: 0.0014 - accuracy: 1.0000 - val_loss: 2.4514 - val_accuracy: 0.6368\n",
      "Epoch 12/50\n",
      "42/42 [==============================] - 3s 83ms/step - loss: 8.1938e-04 - accuracy: 1.0000 - val_loss: 2.5977 - val_accuracy: 0.6316\n",
      "Epoch 13/50\n",
      "42/42 [==============================] - 3s 73ms/step - loss: 4.7725e-04 - accuracy: 1.0000 - val_loss: 2.7136 - val_accuracy: 0.6351\n",
      "Epoch 14/50\n",
      "42/42 [==============================] - 4s 85ms/step - loss: 3.6041e-04 - accuracy: 1.0000 - val_loss: 2.8293 - val_accuracy: 0.6351\n",
      "Epoch 15/50\n",
      "42/42 [==============================] - 3s 61ms/step - loss: 2.8571e-04 - accuracy: 1.0000 - val_loss: 2.9075 - val_accuracy: 0.6316\n"
     ]
    },
    {
     "data": {
      "text/plain": [
       "<keras.callbacks.History at 0x1d687b2ed30>"
      ]
     },
     "execution_count": 530,
     "metadata": {},
     "output_type": "execute_result"
    }
   ],
   "source": [
    "model=Sequential()\n",
    "model.add(Input(shape=(60,)))\n",
    "model.add(Embedding(V+1,D))\n",
    "model.add(GRU(M,return_sequences=True))\n",
    "model.add(GlobalMaxPool1D())\n",
    "model.add(Dense(M))\n",
    "model.add(Dense(3,activation='softmax'))\n",
    "\n",
    "model.compile(optimizer='adam',loss='sparse_categorical_crossentropy',metrics=['accuracy'])\n",
    "\n",
    "model.fit(X_train,y_train,validation_data=(X_test,y_test),\n",
    "            epochs=50,batch_size=64,callbacks=[early_stop])"
   ]
  }
 ],
 "metadata": {
  "kernelspec": {
   "display_name": "Python 3 (ipykernel)",
   "language": "python",
   "name": "python3"
  },
  "language_info": {
   "codemirror_mode": {
    "name": "ipython",
    "version": 3
   },
   "file_extension": ".py",
   "mimetype": "text/x-python",
   "name": "python",
   "nbconvert_exporter": "python",
   "pygments_lexer": "ipython3",
   "version": "3.9.12"
  }
 },
 "nbformat": 4,
 "nbformat_minor": 5
}
